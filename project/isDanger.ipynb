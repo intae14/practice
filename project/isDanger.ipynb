{
 "cells": [
  {
   "cell_type": "code",
   "execution_count": 308,
   "metadata": {},
   "outputs": [],
   "source": [
    "import pandas as pd\n",
    "import numpy as np\n",
    "import matplotlib.pyplot as plt\n",
    "from collections import Counter\n",
    "import xgboost as xgb\n",
    "from sklearn.model_selection import train_test_split\n",
    "from sklearn.decomposition import PCA\n",
    "from sklearn.metrics import roc_auc_score\n",
    "from sklearn.cross_validation import StratifiedShuffleSplit\n",
    "import seaborn as sns"
   ]
  },
  {
   "cell_type": "code",
   "execution_count": 63,
   "metadata": {},
   "outputs": [],
   "source": [
    "a= pd.read_csv('도로교통공단_전국_사망교통사고_2017.csv',engine='python')"
   ]
  },
  {
   "cell_type": "code",
   "execution_count": 4,
   "metadata": {},
   "outputs": [
    {
     "data": {
      "text/html": [
       "<div>\n",
       "<style scoped>\n",
       "    .dataframe tbody tr th:only-of-type {\n",
       "        vertical-align: middle;\n",
       "    }\n",
       "\n",
       "    .dataframe tbody tr th {\n",
       "        vertical-align: top;\n",
       "    }\n",
       "\n",
       "    .dataframe thead th {\n",
       "        text-align: right;\n",
       "    }\n",
       "</style>\n",
       "<table border=\"1\" class=\"dataframe\">\n",
       "  <thead>\n",
       "    <tr style=\"text-align: right;\">\n",
       "      <th></th>\n",
       "      <th>발생년</th>\n",
       "      <th>발생년월일시</th>\n",
       "      <th>발생분</th>\n",
       "      <th>사망자수</th>\n",
       "      <th>사상자수</th>\n",
       "      <th>중상자수</th>\n",
       "      <th>경상자수</th>\n",
       "      <th>부상신고자수</th>\n",
       "      <th>발생위치X_UTMK</th>\n",
       "      <th>발생위치Y_UTMK</th>\n",
       "      <th>경도</th>\n",
       "      <th>위도</th>\n",
       "    </tr>\n",
       "  </thead>\n",
       "  <tbody>\n",
       "    <tr>\n",
       "      <th>count</th>\n",
       "      <td>4065.0</td>\n",
       "      <td>4.065000e+03</td>\n",
       "      <td>4065.000000</td>\n",
       "      <td>4065.000000</td>\n",
       "      <td>4065.000000</td>\n",
       "      <td>4065.000000</td>\n",
       "      <td>4065.000000</td>\n",
       "      <td>4065.000000</td>\n",
       "      <td>4.065000e+03</td>\n",
       "      <td>4.065000e+03</td>\n",
       "      <td>4065.000000</td>\n",
       "      <td>4065.000000</td>\n",
       "    </tr>\n",
       "    <tr>\n",
       "      <th>mean</th>\n",
       "      <td>2017.0</td>\n",
       "      <td>2.017070e+09</td>\n",
       "      <td>27.603690</td>\n",
       "      <td>1.029520</td>\n",
       "      <td>1.571956</td>\n",
       "      <td>0.232718</td>\n",
       "      <td>0.276507</td>\n",
       "      <td>0.033210</td>\n",
       "      <td>1.005128e+06</td>\n",
       "      <td>1.817494e+06</td>\n",
       "      <td>127.555981</td>\n",
       "      <td>36.349098</td>\n",
       "    </tr>\n",
       "    <tr>\n",
       "      <th>std</th>\n",
       "      <td>0.0</td>\n",
       "      <td>3.443894e+04</td>\n",
       "      <td>17.425167</td>\n",
       "      <td>0.192411</td>\n",
       "      <td>2.304630</td>\n",
       "      <td>0.733387</td>\n",
       "      <td>1.564021</td>\n",
       "      <td>0.494188</td>\n",
       "      <td>7.637513e+04</td>\n",
       "      <td>1.186513e+05</td>\n",
       "      <td>0.847102</td>\n",
       "      <td>1.070416</td>\n",
       "    </tr>\n",
       "    <tr>\n",
       "      <th>min</th>\n",
       "      <td>2017.0</td>\n",
       "      <td>2.017010e+09</td>\n",
       "      <td>0.000000</td>\n",
       "      <td>1.000000</td>\n",
       "      <td>1.000000</td>\n",
       "      <td>0.000000</td>\n",
       "      <td>0.000000</td>\n",
       "      <td>0.000000</td>\n",
       "      <td>8.625930e+05</td>\n",
       "      <td>1.470878e+06</td>\n",
       "      <td>125.998609</td>\n",
       "      <td>33.222909</td>\n",
       "    </tr>\n",
       "    <tr>\n",
       "      <th>25%</th>\n",
       "      <td>2017.0</td>\n",
       "      <td>2.017041e+09</td>\n",
       "      <td>13.000000</td>\n",
       "      <td>1.000000</td>\n",
       "      <td>1.000000</td>\n",
       "      <td>0.000000</td>\n",
       "      <td>0.000000</td>\n",
       "      <td>0.000000</td>\n",
       "      <td>9.469770e+05</td>\n",
       "      <td>1.714671e+06</td>\n",
       "      <td>126.906024</td>\n",
       "      <td>35.420957</td>\n",
       "    </tr>\n",
       "    <tr>\n",
       "      <th>50%</th>\n",
       "      <td>2017.0</td>\n",
       "      <td>2.017072e+09</td>\n",
       "      <td>29.000000</td>\n",
       "      <td>1.000000</td>\n",
       "      <td>1.000000</td>\n",
       "      <td>0.000000</td>\n",
       "      <td>0.000000</td>\n",
       "      <td>0.000000</td>\n",
       "      <td>9.741830e+05</td>\n",
       "      <td>1.821655e+06</td>\n",
       "      <td>127.214533</td>\n",
       "      <td>36.383054</td>\n",
       "    </tr>\n",
       "    <tr>\n",
       "      <th>75%</th>\n",
       "      <td>2017.0</td>\n",
       "      <td>2.017101e+09</td>\n",
       "      <td>43.000000</td>\n",
       "      <td>1.000000</td>\n",
       "      <td>2.000000</td>\n",
       "      <td>0.000000</td>\n",
       "      <td>0.000000</td>\n",
       "      <td>0.000000</td>\n",
       "      <td>1.074165e+06</td>\n",
       "      <td>1.930639e+06</td>\n",
       "      <td>128.327093</td>\n",
       "      <td>37.370129</td>\n",
       "    </tr>\n",
       "    <tr>\n",
       "      <th>max</th>\n",
       "      <td>2017.0</td>\n",
       "      <td>2.017123e+09</td>\n",
       "      <td>59.000000</td>\n",
       "      <td>5.000000</td>\n",
       "      <td>105.000000</td>\n",
       "      <td>10.000000</td>\n",
       "      <td>68.000000</td>\n",
       "      <td>27.000000</td>\n",
       "      <td>1.298136e+06</td>\n",
       "      <td>2.034216e+06</td>\n",
       "      <td>130.874318</td>\n",
       "      <td>38.303779</td>\n",
       "    </tr>\n",
       "  </tbody>\n",
       "</table>\n",
       "</div>"
      ],
      "text/plain": [
       "          발생년        발생년월일시          발생분         사망자수         사상자수  \\\n",
       "count  4065.0  4.065000e+03  4065.000000  4065.000000  4065.000000   \n",
       "mean   2017.0  2.017070e+09    27.603690     1.029520     1.571956   \n",
       "std       0.0  3.443894e+04    17.425167     0.192411     2.304630   \n",
       "min    2017.0  2.017010e+09     0.000000     1.000000     1.000000   \n",
       "25%    2017.0  2.017041e+09    13.000000     1.000000     1.000000   \n",
       "50%    2017.0  2.017072e+09    29.000000     1.000000     1.000000   \n",
       "75%    2017.0  2.017101e+09    43.000000     1.000000     2.000000   \n",
       "max    2017.0  2.017123e+09    59.000000     5.000000   105.000000   \n",
       "\n",
       "              중상자수         경상자수       부상신고자수    발생위치X_UTMK    발생위치Y_UTMK  \\\n",
       "count  4065.000000  4065.000000  4065.000000  4.065000e+03  4.065000e+03   \n",
       "mean      0.232718     0.276507     0.033210  1.005128e+06  1.817494e+06   \n",
       "std       0.733387     1.564021     0.494188  7.637513e+04  1.186513e+05   \n",
       "min       0.000000     0.000000     0.000000  8.625930e+05  1.470878e+06   \n",
       "25%       0.000000     0.000000     0.000000  9.469770e+05  1.714671e+06   \n",
       "50%       0.000000     0.000000     0.000000  9.741830e+05  1.821655e+06   \n",
       "75%       0.000000     0.000000     0.000000  1.074165e+06  1.930639e+06   \n",
       "max      10.000000    68.000000    27.000000  1.298136e+06  2.034216e+06   \n",
       "\n",
       "                경도           위도  \n",
       "count  4065.000000  4065.000000  \n",
       "mean    127.555981    36.349098  \n",
       "std       0.847102     1.070416  \n",
       "min     125.998609    33.222909  \n",
       "25%     126.906024    35.420957  \n",
       "50%     127.214533    36.383054  \n",
       "75%     128.327093    37.370129  \n",
       "max     130.874318    38.303779  "
      ]
     },
     "execution_count": 4,
     "metadata": {},
     "output_type": "execute_result"
    }
   ],
   "source": [
    "a.describe()"
   ]
  },
  {
   "cell_type": "code",
   "execution_count": 65,
   "metadata": {
    "scrolled": true
   },
   "outputs": [
    {
     "data": {
      "text/html": [
       "<div>\n",
       "<style scoped>\n",
       "    .dataframe tbody tr th:only-of-type {\n",
       "        vertical-align: middle;\n",
       "    }\n",
       "\n",
       "    .dataframe tbody tr th {\n",
       "        vertical-align: top;\n",
       "    }\n",
       "\n",
       "    .dataframe thead th {\n",
       "        text-align: right;\n",
       "    }\n",
       "</style>\n",
       "<table border=\"1\" class=\"dataframe\">\n",
       "  <thead>\n",
       "    <tr style=\"text-align: right;\">\n",
       "      <th></th>\n",
       "      <th>발생년</th>\n",
       "      <th>발생년월일시</th>\n",
       "      <th>발생분</th>\n",
       "      <th>주야</th>\n",
       "      <th>요일</th>\n",
       "      <th>사망자수</th>\n",
       "      <th>사상자수</th>\n",
       "      <th>중상자수</th>\n",
       "      <th>경상자수</th>\n",
       "      <th>부상신고자수</th>\n",
       "      <th>발생지시도</th>\n",
       "      <th>발생지시군구</th>\n",
       "      <th>사고유형_대분류</th>\n",
       "      <th>사고유형_중분류</th>\n",
       "      <th>사고유형</th>\n",
       "      <th>법규위반_대분류</th>\n",
       "      <th>법규위반</th>\n",
       "      <th>도로형태_대분류</th>\n",
       "      <th>도로형태</th>\n",
       "      <th>당사자종별_1당_대분류</th>\n",
       "      <th>당사자종별_1당</th>\n",
       "      <th>당사자종별_2당_대분류</th>\n",
       "      <th>당사자종별_2당</th>\n",
       "      <th>발생위치X_UTMK</th>\n",
       "      <th>발생위치Y_UTMK</th>\n",
       "      <th>경도</th>\n",
       "      <th>위도</th>\n",
       "    </tr>\n",
       "  </thead>\n",
       "  <tbody>\n",
       "    <tr>\n",
       "      <th>0</th>\n",
       "      <td>2017</td>\n",
       "      <td>2017010101</td>\n",
       "      <td>15</td>\n",
       "      <td>야간</td>\n",
       "      <td>일</td>\n",
       "      <td>1</td>\n",
       "      <td>2</td>\n",
       "      <td>1</td>\n",
       "      <td>0</td>\n",
       "      <td>0</td>\n",
       "      <td>전남</td>\n",
       "      <td>장성군</td>\n",
       "      <td>차대차</td>\n",
       "      <td>기타</td>\n",
       "      <td>기타</td>\n",
       "      <td>운전자법규위반</td>\n",
       "      <td>안전운전 의무 불이행</td>\n",
       "      <td>단일로</td>\n",
       "      <td>기타단일로</td>\n",
       "      <td>승용차</td>\n",
       "      <td>승용차</td>\n",
       "      <td>승용차</td>\n",
       "      <td>승용차</td>\n",
       "      <td>933501</td>\n",
       "      <td>1700129</td>\n",
       "      <td>126.768634</td>\n",
       "      <td>35.294464</td>\n",
       "    </tr>\n",
       "    <tr>\n",
       "      <th>1</th>\n",
       "      <td>2017</td>\n",
       "      <td>2017010102</td>\n",
       "      <td>28</td>\n",
       "      <td>야간</td>\n",
       "      <td>일</td>\n",
       "      <td>1</td>\n",
       "      <td>1</td>\n",
       "      <td>0</td>\n",
       "      <td>0</td>\n",
       "      <td>0</td>\n",
       "      <td>서울</td>\n",
       "      <td>송파구</td>\n",
       "      <td>차대사람</td>\n",
       "      <td>횡단중</td>\n",
       "      <td>횡단중</td>\n",
       "      <td>운전자법규위반</td>\n",
       "      <td>안전운전 의무 불이행</td>\n",
       "      <td>교차로</td>\n",
       "      <td>교차로부근</td>\n",
       "      <td>승용차</td>\n",
       "      <td>승용차</td>\n",
       "      <td>보행자</td>\n",
       "      <td>보행자</td>\n",
       "      <td>967570</td>\n",
       "      <td>1944453</td>\n",
       "      <td>127.133107</td>\n",
       "      <td>37.498741</td>\n",
       "    </tr>\n",
       "    <tr>\n",
       "      <th>2</th>\n",
       "      <td>2017</td>\n",
       "      <td>2017010102</td>\n",
       "      <td>43</td>\n",
       "      <td>야간</td>\n",
       "      <td>일</td>\n",
       "      <td>1</td>\n",
       "      <td>2</td>\n",
       "      <td>0</td>\n",
       "      <td>1</td>\n",
       "      <td>0</td>\n",
       "      <td>충남</td>\n",
       "      <td>홍성군</td>\n",
       "      <td>차대차</td>\n",
       "      <td>추돌</td>\n",
       "      <td>추돌</td>\n",
       "      <td>운전자법규위반</td>\n",
       "      <td>안전운전 의무 불이행</td>\n",
       "      <td>단일로</td>\n",
       "      <td>기타단일로</td>\n",
       "      <td>승용차</td>\n",
       "      <td>승용차</td>\n",
       "      <td>승용차</td>\n",
       "      <td>승용차</td>\n",
       "      <td>916497</td>\n",
       "      <td>1842880</td>\n",
       "      <td>126.566631</td>\n",
       "      <td>36.580069</td>\n",
       "    </tr>\n",
       "    <tr>\n",
       "      <th>3</th>\n",
       "      <td>2017</td>\n",
       "      <td>2017010102</td>\n",
       "      <td>22</td>\n",
       "      <td>야간</td>\n",
       "      <td>일</td>\n",
       "      <td>1</td>\n",
       "      <td>1</td>\n",
       "      <td>0</td>\n",
       "      <td>0</td>\n",
       "      <td>0</td>\n",
       "      <td>충남</td>\n",
       "      <td>아산시</td>\n",
       "      <td>차량단독</td>\n",
       "      <td>공작물충돌</td>\n",
       "      <td>공작물충돌</td>\n",
       "      <td>운전자법규위반</td>\n",
       "      <td>안전운전 의무 불이행</td>\n",
       "      <td>단일로</td>\n",
       "      <td>기타단일로</td>\n",
       "      <td>승용차</td>\n",
       "      <td>승용차</td>\n",
       "      <td>없음</td>\n",
       "      <td>없음</td>\n",
       "      <td>961608</td>\n",
       "      <td>1864573</td>\n",
       "      <td>127.069759</td>\n",
       "      <td>36.778505</td>\n",
       "    </tr>\n",
       "    <tr>\n",
       "      <th>4</th>\n",
       "      <td>2017</td>\n",
       "      <td>2017010104</td>\n",
       "      <td>37</td>\n",
       "      <td>야간</td>\n",
       "      <td>일</td>\n",
       "      <td>1</td>\n",
       "      <td>1</td>\n",
       "      <td>0</td>\n",
       "      <td>0</td>\n",
       "      <td>0</td>\n",
       "      <td>서울</td>\n",
       "      <td>금천구</td>\n",
       "      <td>차대사람</td>\n",
       "      <td>기타</td>\n",
       "      <td>기타</td>\n",
       "      <td>운전자법규위반</td>\n",
       "      <td>안전운전 의무 불이행</td>\n",
       "      <td>단일로</td>\n",
       "      <td>기타단일로</td>\n",
       "      <td>승용차</td>\n",
       "      <td>승용차</td>\n",
       "      <td>보행자</td>\n",
       "      <td>보행자</td>\n",
       "      <td>946778</td>\n",
       "      <td>1941695</td>\n",
       "      <td>126.898094</td>\n",
       "      <td>37.472946</td>\n",
       "    </tr>\n",
       "  </tbody>\n",
       "</table>\n",
       "</div>"
      ],
      "text/plain": [
       "    발생년      발생년월일시  발생분  주야 요일  사망자수  사상자수  중상자수  경상자수  부상신고자수 발생지시도 발생지시군구  \\\n",
       "0  2017  2017010101   15  야간  일     1     2     1     0       0    전남    장성군   \n",
       "1  2017  2017010102   28  야간  일     1     1     0     0       0    서울    송파구   \n",
       "2  2017  2017010102   43  야간  일     1     2     0     1       0    충남    홍성군   \n",
       "3  2017  2017010102   22  야간  일     1     1     0     0       0    충남    아산시   \n",
       "4  2017  2017010104   37  야간  일     1     1     0     0       0    서울    금천구   \n",
       "\n",
       "  사고유형_대분류 사고유형_중분류   사고유형 법규위반_대분류         법규위반 도로형태_대분류   도로형태 당사자종별_1당_대분류  \\\n",
       "0      차대차       기타     기타  운전자법규위반  안전운전 의무 불이행      단일로  기타단일로          승용차   \n",
       "1     차대사람      횡단중    횡단중  운전자법규위반  안전운전 의무 불이행      교차로  교차로부근          승용차   \n",
       "2      차대차       추돌     추돌  운전자법규위반  안전운전 의무 불이행      단일로  기타단일로          승용차   \n",
       "3     차량단독    공작물충돌  공작물충돌  운전자법규위반  안전운전 의무 불이행      단일로  기타단일로          승용차   \n",
       "4     차대사람       기타     기타  운전자법규위반  안전운전 의무 불이행      단일로  기타단일로          승용차   \n",
       "\n",
       "  당사자종별_1당 당사자종별_2당_대분류 당사자종별_2당  발생위치X_UTMK  발생위치Y_UTMK          경도  \\\n",
       "0      승용차          승용차      승용차      933501     1700129  126.768634   \n",
       "1      승용차          보행자      보행자      967570     1944453  127.133107   \n",
       "2      승용차          승용차      승용차      916497     1842880  126.566631   \n",
       "3      승용차           없음       없음      961608     1864573  127.069759   \n",
       "4      승용차          보행자      보행자      946778     1941695  126.898094   \n",
       "\n",
       "          위도  \n",
       "0  35.294464  \n",
       "1  37.498741  \n",
       "2  36.580069  \n",
       "3  36.778505  \n",
       "4  37.472946  "
      ]
     },
     "execution_count": 65,
     "metadata": {},
     "output_type": "execute_result"
    }
   ],
   "source": [
    "pd.options.display.max_columns = 999\n",
    "a.head()"
   ]
  },
  {
   "cell_type": "code",
   "execution_count": 67,
   "metadata": {},
   "outputs": [],
   "source": [
    "a['time']=a['발생년월일시'].astype(str)+a['발생분'].astype(str)"
   ]
  },
  {
   "cell_type": "code",
   "execution_count": 68,
   "metadata": {},
   "outputs": [],
   "source": [
    "a['time']=pd.to_datetime(a['time'], format='%Y%m%d%H%M')"
   ]
  },
  {
   "cell_type": "code",
   "execution_count": 71,
   "metadata": {},
   "outputs": [],
   "source": [
    "a.index= a['time']\n",
    "a=a.drop(['발생년월일시','발생분'], axis=1)"
   ]
  },
  {
   "cell_type": "code",
   "execution_count": 72,
   "metadata": {},
   "outputs": [],
   "source": [
    "mapping= {'야간':1,'주간':0}\n",
    "a['주야']=a['주야'].map(mapping)"
   ]
  },
  {
   "cell_type": "code",
   "execution_count": 73,
   "metadata": {},
   "outputs": [],
   "source": [
    "mapdate= {'일':1,'월':2,'화':3,'수':4,'목':5,'금':6,'토':7}\n",
    "a['요일']= a['요일'].map(mapdate)"
   ]
  },
  {
   "cell_type": "code",
   "execution_count": 74,
   "metadata": {},
   "outputs": [],
   "source": [
    "a['total']=a['사망자수']+a['사상자수']+a['중상자수']+a['경상자수']"
   ]
  },
  {
   "cell_type": "code",
   "execution_count": 131,
   "metadata": {},
   "outputs": [
    {
     "data": {
      "text/plain": [
       "<matplotlib.legend.Legend at 0x114ddac8>"
      ]
     },
     "execution_count": 131,
     "metadata": {},
     "output_type": "execute_result"
    },
    {
     "data": {
      "image/png": "[encoded data removed]",
      "text/plain": [
       "<matplotlib.figure.Figure at 0x114dda90>"
      ]
     },
     "metadata": {},
     "output_type": "display_data"
    }
   ],
   "source": [
    "a.plot(kind = 'scatter', x='경도',y='위도', alpha=0.7,\n",
    "            s=a['total'], label='casualty',figsize=(10,7), c='사망자수',\n",
    "             cmap=plt.get_cmap('jet'), colorbar=True, sharex=False)\n",
    "plt.legend()"
   ]
  },
  {
   "cell_type": "code",
   "execution_count": 76,
   "metadata": {},
   "outputs": [
    {
     "data": {
      "text/plain": [
       "<matplotlib.legend.Legend at 0xfbe8320>"
      ]
     },
     "execution_count": 76,
     "metadata": {},
     "output_type": "execute_result"
    },
    {
     "data": {
      "image/png": "[encoded data removed]",
      "text/plain": [
       "<matplotlib.figure.Figure at 0xfa08400>"
      ]
     },
     "metadata": {},
     "output_type": "display_data"
    }
   ],
   "source": [
    "a.plot(kind = 'scatter', x='발생위치X_UTMK',y='발생위치Y_UTMK', alpha=0.7,\n",
    "            s=a['total'], label='casualty',figsize=(10,7), c='사망자수',\n",
    "             cmap=plt.get_cmap('jet'), colorbar=True, sharex=False)\n",
    "plt.legend()"
   ]
  },
  {
   "cell_type": "code",
   "execution_count": 77,
   "metadata": {},
   "outputs": [],
   "source": [
    "a=a.drop(['발생위치X_UTMK','발생위치Y_UTMK','발생년','time'],axis=1)"
   ]
  },
  {
   "cell_type": "code",
   "execution_count": 86,
   "metadata": {},
   "outputs": [
    {
     "data": {
      "text/plain": [
       "{'과속',\n",
       " '교차로 통행방법 위반',\n",
       " '기타(운전자법규위반)',\n",
       " '보행자 보호의무 위반',\n",
       " '부당한 회전',\n",
       " '서행 및 일시정지위반',\n",
       " '신호위반',\n",
       " '안전거리 미확보',\n",
       " '안전운전 의무 불이행',\n",
       " '앞지르기 금지위반',\n",
       " '앞지르기 방법위반',\n",
       " '정비불량 제차의 운전금지위반',\n",
       " '중앙선 침범',\n",
       " '직진 및 우회전차의 통행방해',\n",
       " '차로위반(진로변경 위반)',\n",
       " '철길건널목 통과방법위반'}"
      ]
     },
     "execution_count": 86,
     "metadata": {},
     "output_type": "execute_result"
    }
   ],
   "source": [
    "set(a['법규위반'])"
   ]
  },
  {
   "cell_type": "code",
   "execution_count": 88,
   "metadata": {
    "collapsed": true
   },
   "outputs": [
    {
     "data": {
      "text/plain": [
       "{'가평군',\n",
       " '강남구',\n",
       " '강동구',\n",
       " '강릉시',\n",
       " '강북구',\n",
       " '강서구',\n",
       " '강진군',\n",
       " '강화군',\n",
       " '거제시',\n",
       " '거창군',\n",
       " '경산시',\n",
       " '경주시',\n",
       " '계룡시',\n",
       " '계양구',\n",
       " '고령군',\n",
       " '고성군',\n",
       " '고양시',\n",
       " '고창군',\n",
       " '고흥군',\n",
       " '곡성군',\n",
       " '공주시',\n",
       " '과천시',\n",
       " '관악구',\n",
       " '광명시',\n",
       " '광산구',\n",
       " '광양시',\n",
       " '광주시',\n",
       " '광진구',\n",
       " '괴산군',\n",
       " '구례군',\n",
       " '구로구',\n",
       " '구리시',\n",
       " '구미시',\n",
       " '군산시',\n",
       " '군위군',\n",
       " '군포시',\n",
       " '금산군',\n",
       " '금정구',\n",
       " '금천구',\n",
       " '기장군',\n",
       " '김제시',\n",
       " '김천시',\n",
       " '김포시',\n",
       " '김해시',\n",
       " '나주시',\n",
       " '남구',\n",
       " '남동구',\n",
       " '남양주시',\n",
       " '남원시',\n",
       " '남해군',\n",
       " '노원구',\n",
       " '논산시',\n",
       " '단양군',\n",
       " '달서구',\n",
       " '달성군',\n",
       " '담양군',\n",
       " '당진시',\n",
       " '대덕구',\n",
       " '도봉구',\n",
       " '동구',\n",
       " '동대문구',\n",
       " '동두천시',\n",
       " '동래구',\n",
       " '동작구',\n",
       " '동해시',\n",
       " '마포구',\n",
       " '목포시',\n",
       " '무안군',\n",
       " '무주군',\n",
       " '문경시',\n",
       " '밀양시',\n",
       " '보령시',\n",
       " '보성군',\n",
       " '보은군',\n",
       " '봉화군',\n",
       " '부산진구',\n",
       " '부안군',\n",
       " '부여군',\n",
       " '부천시',\n",
       " '부평구',\n",
       " '북구',\n",
       " '사상구',\n",
       " '사천시',\n",
       " '사하구',\n",
       " '산청군',\n",
       " '삼척시',\n",
       " '상주시',\n",
       " '서구',\n",
       " '서귀포시',\n",
       " '서대문구',\n",
       " '서산시',\n",
       " '서천군',\n",
       " '서초구',\n",
       " '성남시',\n",
       " '성동구',\n",
       " '성북구',\n",
       " '성주군',\n",
       " '세종',\n",
       " '속초시',\n",
       " '송파구',\n",
       " '수성구',\n",
       " '수영구',\n",
       " '수원시',\n",
       " '순창군',\n",
       " '순천시',\n",
       " '시흥시',\n",
       " '신안군',\n",
       " '아산시',\n",
       " '안동시',\n",
       " '안산시',\n",
       " '안성시',\n",
       " '안양시',\n",
       " '양구군',\n",
       " '양산시',\n",
       " '양양군',\n",
       " '양주시',\n",
       " '양천구',\n",
       " '양평군',\n",
       " '여수시',\n",
       " '여주시',\n",
       " '연수구',\n",
       " '연제구',\n",
       " '연천군',\n",
       " '영광군',\n",
       " '영덕군',\n",
       " '영도구',\n",
       " '영동군',\n",
       " '영등포구',\n",
       " '영암군',\n",
       " '영양군',\n",
       " '영월군',\n",
       " '영주시',\n",
       " '영천시',\n",
       " '예산군',\n",
       " '예천군',\n",
       " '오산시',\n",
       " '옥천군',\n",
       " '옹진군',\n",
       " '완도군',\n",
       " '완주군',\n",
       " '용산구',\n",
       " '용인시',\n",
       " '울릉군',\n",
       " '울주군',\n",
       " '울진군',\n",
       " '원주시',\n",
       " '유성구',\n",
       " '은평구',\n",
       " '음성군',\n",
       " '의령군',\n",
       " '의성군',\n",
       " '의왕시',\n",
       " '의정부시',\n",
       " '이천시',\n",
       " '익산시',\n",
       " '인제군',\n",
       " '임실군',\n",
       " '장성군',\n",
       " '장수군',\n",
       " '장흥군',\n",
       " '전주시',\n",
       " '정선군',\n",
       " '정읍시',\n",
       " '제주시',\n",
       " '제천시',\n",
       " '종로구',\n",
       " '중구',\n",
       " '중랑구',\n",
       " '증평군',\n",
       " '진도군',\n",
       " '진안군',\n",
       " '진주시',\n",
       " '진천군',\n",
       " '창녕군',\n",
       " '창원시(통합)',\n",
       " '천안시',\n",
       " '철원군',\n",
       " '청도군',\n",
       " '청송군',\n",
       " '청양군',\n",
       " '청주시',\n",
       " '춘천시',\n",
       " '충주시',\n",
       " '칠곡군',\n",
       " '태백시',\n",
       " '태안군',\n",
       " '통영시',\n",
       " '파주시',\n",
       " '평창군',\n",
       " '평택시',\n",
       " '포천시',\n",
       " '포항시',\n",
       " '하남시',\n",
       " '하동군',\n",
       " '함안군',\n",
       " '함양군',\n",
       " '함평군',\n",
       " '합천군',\n",
       " '해남군',\n",
       " '해운대구',\n",
       " '홍성군',\n",
       " '홍천군',\n",
       " '화성시',\n",
       " '화순군',\n",
       " '화천군',\n",
       " '횡성군'}"
      ]
     },
     "execution_count": 88,
     "metadata": {},
     "output_type": "execute_result"
    }
   ],
   "source": [
    "set(a['발생지시군구'])"
   ]
  },
  {
   "cell_type": "code",
   "execution_count": 91,
   "metadata": {
    "collapsed": true
   },
   "outputs": [
    {
     "data": {
      "text/plain": [
       "{'공작물충돌',\n",
       " '기타',\n",
       " '길가장자리구역통행중',\n",
       " '도로이탈 기타',\n",
       " '도로이탈 추락',\n",
       " '보도통행중',\n",
       " '전도',\n",
       " '전도전복',\n",
       " '전복',\n",
       " '정면충돌',\n",
       " '주/정차차량 충돌',\n",
       " '차도통행중',\n",
       " '철길건널목',\n",
       " '추돌',\n",
       " '측면충돌',\n",
       " '횡단중',\n",
       " '후진중충돌'}"
      ]
     },
     "execution_count": 91,
     "metadata": {},
     "output_type": "execute_result"
    }
   ],
   "source": [
    "set(a['사고유형'])"
   ]
  },
  {
   "cell_type": "code",
   "execution_count": 93,
   "metadata": {},
   "outputs": [
    {
     "data": {
      "text/plain": [
       "{'운전자법규위반', '정비불량'}"
      ]
     },
     "execution_count": 93,
     "metadata": {},
     "output_type": "execute_result"
    }
   ],
   "source": [
    "set(a['법규위반_대분류'])"
   ]
  },
  {
   "cell_type": "code",
   "execution_count": 94,
   "metadata": {},
   "outputs": [],
   "source": [
    "a=a.drop(['법규위반_대분류','사고유형_중분류','발생지시군구'],axis=1)"
   ]
  },
  {
   "cell_type": "code",
   "execution_count": 96,
   "metadata": {},
   "outputs": [
    {
     "data": {
      "text/plain": [
       "{'고가도로위',\n",
       " '교량위',\n",
       " '교차로내',\n",
       " '교차로부근',\n",
       " '교차로횡단보도내',\n",
       " '기타',\n",
       " '기타단일로',\n",
       " '불명',\n",
       " '주차장',\n",
       " '지하차도(도로)내',\n",
       " '철길건널목',\n",
       " '터널안'}"
      ]
     },
     "execution_count": 96,
     "metadata": {},
     "output_type": "execute_result"
    }
   ],
   "source": [
    "set(a['도로형태'])"
   ]
  },
  {
   "cell_type": "code",
   "execution_count": 97,
   "metadata": {},
   "outputs": [],
   "source": [
    "a=a.drop(['당사자종별_1당_대분류','당사자종별_2당_대분류','발생지시도'],axis=1)"
   ]
  },
  {
   "cell_type": "code",
   "execution_count": 104,
   "metadata": {},
   "outputs": [
    {
     "data": {
      "text/plain": [
       "[<matplotlib.lines.Line2D at 0xfecf748>]"
      ]
     },
     "execution_count": 104,
     "metadata": {},
     "output_type": "execute_result"
    },
    {
     "data": {
      "image/png": "[encoded data removed]",
      "text/plain": [
       "<matplotlib.figure.Figure at 0x10302cf8>"
      ]
     },
     "metadata": {},
     "output_type": "display_data"
    }
   ],
   "source": [
    "plt.plot(a['사망자수'])"
   ]
  },
  {
   "cell_type": "code",
   "execution_count": 105,
   "metadata": {},
   "outputs": [
    {
     "data": {
      "text/plain": [
       "[<matplotlib.lines.Line2D at 0xfdfbcf8>]"
      ]
     },
     "execution_count": 105,
     "metadata": {},
     "output_type": "execute_result"
    },
    {
     "data": {
      "image/png": "[encoded data removed]",
      "text/plain": [
       "<matplotlib.figure.Figure at 0xfe76978>"
      ]
     },
     "metadata": {},
     "output_type": "display_data"
    }
   ],
   "source": [
    "plt.plot(a['중상자수'])"
   ]
  },
  {
   "cell_type": "code",
   "execution_count": 106,
   "metadata": {},
   "outputs": [
    {
     "data": {
      "text/plain": [
       "[<matplotlib.lines.Line2D at 0xfe56d68>]"
      ]
     },
     "execution_count": 106,
     "metadata": {},
     "output_type": "execute_result"
    },
    {
     "data": {
      "image/png": "[encoded data removed]",
      "text/plain": [
       "<matplotlib.figure.Figure at 0xfeabb38>"
      ]
     },
     "metadata": {},
     "output_type": "display_data"
    }
   ],
   "source": [
    "plt.plot(a['경상자수'])"
   ]
  },
  {
   "cell_type": "code",
   "execution_count": 107,
   "metadata": {},
   "outputs": [
    {
     "data": {
      "text/plain": [
       "[<matplotlib.lines.Line2D at 0xfff7dd8>]"
      ]
     },
     "execution_count": 107,
     "metadata": {},
     "output_type": "execute_result"
    },
    {
     "data": {
      "image/png": "[encoded data removed]",
      "text/plain": [
       "<matplotlib.figure.Figure at 0xff870f0>"
      ]
     },
     "metadata": {},
     "output_type": "display_data"
    }
   ],
   "source": [
    "plt.plot(a['부상신고자수'])"
   ]
  },
  {
   "cell_type": "code",
   "execution_count": 108,
   "metadata": {},
   "outputs": [
    {
     "data": {
      "text/plain": [
       "[<matplotlib.lines.Line2D at 0x1004dc88>]"
      ]
     },
     "execution_count": 108,
     "metadata": {},
     "output_type": "execute_result"
    },
    {
     "data": {
      "image/png": "[encoded data removed]",
      "text/plain": [
       "<matplotlib.figure.Figure at 0xfff7550>"
      ]
     },
     "metadata": {},
     "output_type": "display_data"
    }
   ],
   "source": [
    "plt.plot(a['total'])"
   ]
  },
  {
   "cell_type": "code",
   "execution_count": 110,
   "metadata": {},
   "outputs": [],
   "source": [
    "counter = Counter(a['사고유형_대분류'])\n"
   ]
  },
  {
   "cell_type": "code",
   "execution_count": 130,
   "metadata": {},
   "outputs": [
    {
     "data": {
      "text/plain": [
       "<Container object of 4 artists>"
      ]
     },
     "execution_count": 130,
     "metadata": {},
     "output_type": "execute_result"
    },
    {
     "data": {
      "image/png": "[encoded data removed]",
      "text/plain": [
       "<matplotlib.figure.Figure at 0x114bf6d8>"
      ]
     },
     "metadata": {},
     "output_type": "display_data"
    }
   ],
   "source": [
    "plt.rc('font',family='Malgun Gothic')\n",
    "plt.bar(counter.keys(),counter.values())\n"
   ]
  },
  {
   "cell_type": "code",
   "execution_count": 132,
   "metadata": {},
   "outputs": [
    {
     "data": {
      "text/html": [
       "<div>\n",
       "<style scoped>\n",
       "    .dataframe tbody tr th:only-of-type {\n",
       "        vertical-align: middle;\n",
       "    }\n",
       "\n",
       "    .dataframe tbody tr th {\n",
       "        vertical-align: top;\n",
       "    }\n",
       "\n",
       "    .dataframe thead th {\n",
       "        text-align: right;\n",
       "    }\n",
       "</style>\n",
       "<table border=\"1\" class=\"dataframe\">\n",
       "  <thead>\n",
       "    <tr style=\"text-align: right;\">\n",
       "      <th></th>\n",
       "      <th>사고유형_대분류</th>\n",
       "      <th>사고유형</th>\n",
       "      <th>법규위반</th>\n",
       "      <th>도로형태_대분류</th>\n",
       "      <th>도로형태</th>\n",
       "      <th>당사자종별_1당</th>\n",
       "      <th>당사자종별_2당</th>\n",
       "    </tr>\n",
       "  </thead>\n",
       "  <tbody>\n",
       "    <tr>\n",
       "      <th>count</th>\n",
       "      <td>4065</td>\n",
       "      <td>4065</td>\n",
       "      <td>4065</td>\n",
       "      <td>4065</td>\n",
       "      <td>4065</td>\n",
       "      <td>4065</td>\n",
       "      <td>4065</td>\n",
       "    </tr>\n",
       "    <tr>\n",
       "      <th>unique</th>\n",
       "      <td>4</td>\n",
       "      <td>17</td>\n",
       "      <td>16</td>\n",
       "      <td>6</td>\n",
       "      <td>12</td>\n",
       "      <td>12</td>\n",
       "      <td>14</td>\n",
       "    </tr>\n",
       "    <tr>\n",
       "      <th>top</th>\n",
       "      <td>차대차</td>\n",
       "      <td>횡단중</td>\n",
       "      <td>안전운전 의무 불이행</td>\n",
       "      <td>단일로</td>\n",
       "      <td>기타단일로</td>\n",
       "      <td>승용차</td>\n",
       "      <td>보행자</td>\n",
       "    </tr>\n",
       "    <tr>\n",
       "      <th>freq</th>\n",
       "      <td>1642</td>\n",
       "      <td>966</td>\n",
       "      <td>2824</td>\n",
       "      <td>2587</td>\n",
       "      <td>2470</td>\n",
       "      <td>1977</td>\n",
       "      <td>1601</td>\n",
       "    </tr>\n",
       "  </tbody>\n",
       "</table>\n",
       "</div>"
      ],
      "text/plain": [
       "       사고유형_대분류  사고유형         법규위반 도로형태_대분류   도로형태 당사자종별_1당 당사자종별_2당\n",
       "count      4065  4065         4065     4065   4065     4065     4065\n",
       "unique        4    17           16        6     12       12       14\n",
       "top         차대차   횡단중  안전운전 의무 불이행      단일로  기타단일로      승용차      보행자\n",
       "freq       1642   966         2824     2587   2470     1977     1601"
      ]
     },
     "execution_count": 132,
     "metadata": {},
     "output_type": "execute_result"
    }
   ],
   "source": [
    "a.describe(include='O')"
   ]
  },
  {
   "cell_type": "code",
   "execution_count": 145,
   "metadata": {},
   "outputs": [
    {
     "data": {
      "text/plain": [
       "[('횡단중', 966),\n",
       " ('기타', 717),\n",
       " ('측면충돌', 664),\n",
       " ('추돌', 416),\n",
       " ('정면충돌', 284),\n",
       " ('공작물충돌', 260),\n",
       " ('전도전복', 216),\n",
       " ('차도통행중', 191),\n",
       " ('전도', 152),\n",
       " ('길가장자리구역통행중', 65),\n",
       " ('도로이탈 추락', 50),\n",
       " ('보도통행중', 36),\n",
       " ('도로이탈 기타', 21),\n",
       " ('전복', 17),\n",
       " ('후진중충돌', 7),\n",
       " ('주/정차차량 충돌', 2),\n",
       " ('철길건널목', 1)]"
      ]
     },
     "execution_count": 145,
     "metadata": {},
     "output_type": "execute_result"
    }
   ],
   "source": [
    "counter = Counter(a['사고유형'])\n",
    "counter.most_common()\n"
   ]
  },
  {
   "cell_type": "code",
   "execution_count": 134,
   "metadata": {},
   "outputs": [
    {
     "data": {
      "text/plain": [
       "<Container object of 17 artists>"
      ]
     },
     "execution_count": 134,
     "metadata": {},
     "output_type": "execute_result"
    },
    {
     "data": {
      "image/png": "[encoded data removed]",
      "text/plain": [
       "<matplotlib.figure.Figure at 0x115b05c0>"
      ]
     },
     "metadata": {},
     "output_type": "display_data"
    }
   ],
   "source": [
    "plt.rc('font',family='Malgun Gothic')\n",
    "plt.bar(counter.keys(),counter.values())\n"
   ]
  },
  {
   "cell_type": "code",
   "execution_count": 135,
   "metadata": {},
   "outputs": [
    {
     "data": {
      "text/plain": [
       "<Container object of 16 artists>"
      ]
     },
     "execution_count": 135,
     "metadata": {},
     "output_type": "execute_result"
    },
    {
     "data": {
      "image/png": "[encoded data removed]",
      "text/plain": [
       "<matplotlib.figure.Figure at 0x11654518>"
      ]
     },
     "metadata": {},
     "output_type": "display_data"
    }
   ],
   "source": [
    "counter = Counter(a['법규위반'])\n",
    "plt.rc('font',family='Malgun Gothic')\n",
    "plt.bar(counter.keys(),counter.values())"
   ]
  },
  {
   "cell_type": "code",
   "execution_count": 136,
   "metadata": {},
   "outputs": [
    {
     "data": {
      "text/plain": [
       "<Container object of 12 artists>"
      ]
     },
     "execution_count": 136,
     "metadata": {},
     "output_type": "execute_result"
    },
    {
     "data": {
      "image/png": "[encoded data removed]",
      "text/plain": [
       "<matplotlib.figure.Figure at 0x116ea6d8>"
      ]
     },
     "metadata": {},
     "output_type": "display_data"
    }
   ],
   "source": [
    "counter = Counter(a['도로형태'])\n",
    "plt.rc('font',family='Malgun Gothic')\n",
    "plt.bar(counter.keys(),counter.values())"
   ]
  },
  {
   "cell_type": "code",
   "execution_count": 140,
   "metadata": {},
   "outputs": [],
   "source": [
    "a=a.drop(['도로형태_대분류'],axis=1)"
   ]
  },
  {
   "cell_type": "code",
   "execution_count": 142,
   "metadata": {},
   "outputs": [
    {
     "data": {
      "text/plain": [
       "{'개인형이동수단(PM)',\n",
       " '건설기계',\n",
       " '기타',\n",
       " '농기계',\n",
       " '사륜오토바이(ATV)',\n",
       " '승용차',\n",
       " '승합차',\n",
       " '원동기장치자전거',\n",
       " '이륜차',\n",
       " '자전거',\n",
       " '특수차',\n",
       " '화물차'}"
      ]
     },
     "execution_count": 142,
     "metadata": {},
     "output_type": "execute_result"
    }
   ],
   "source": [
    "set(a['당사자종별_1당'])"
   ]
  },
  {
   "cell_type": "code",
   "execution_count": 148,
   "metadata": {},
   "outputs": [],
   "source": [
    "a=a.drop(['사고유형_대분류'],axis=1)"
   ]
  },
  {
   "cell_type": "code",
   "execution_count": 151,
   "metadata": {},
   "outputs": [
    {
     "data": {
      "text/html": [
       "<div>\n",
       "<style scoped>\n",
       "    .dataframe tbody tr th:only-of-type {\n",
       "        vertical-align: middle;\n",
       "    }\n",
       "\n",
       "    .dataframe tbody tr th {\n",
       "        vertical-align: top;\n",
       "    }\n",
       "\n",
       "    .dataframe thead th {\n",
       "        text-align: right;\n",
       "    }\n",
       "</style>\n",
       "<table border=\"1\" class=\"dataframe\">\n",
       "  <thead>\n",
       "    <tr style=\"text-align: right;\">\n",
       "      <th></th>\n",
       "      <th>사고유형</th>\n",
       "      <th>법규위반</th>\n",
       "      <th>도로형태</th>\n",
       "      <th>당사자종별_1당</th>\n",
       "      <th>당사자종별_2당</th>\n",
       "    </tr>\n",
       "  </thead>\n",
       "  <tbody>\n",
       "    <tr>\n",
       "      <th>count</th>\n",
       "      <td>4065</td>\n",
       "      <td>4065</td>\n",
       "      <td>4065</td>\n",
       "      <td>4065</td>\n",
       "      <td>4065</td>\n",
       "    </tr>\n",
       "    <tr>\n",
       "      <th>unique</th>\n",
       "      <td>17</td>\n",
       "      <td>16</td>\n",
       "      <td>12</td>\n",
       "      <td>12</td>\n",
       "      <td>14</td>\n",
       "    </tr>\n",
       "    <tr>\n",
       "      <th>top</th>\n",
       "      <td>횡단중</td>\n",
       "      <td>안전운전 의무 불이행</td>\n",
       "      <td>기타단일로</td>\n",
       "      <td>승용차</td>\n",
       "      <td>보행자</td>\n",
       "    </tr>\n",
       "    <tr>\n",
       "      <th>freq</th>\n",
       "      <td>966</td>\n",
       "      <td>2824</td>\n",
       "      <td>2470</td>\n",
       "      <td>1977</td>\n",
       "      <td>1601</td>\n",
       "    </tr>\n",
       "  </tbody>\n",
       "</table>\n",
       "</div>"
      ],
      "text/plain": [
       "        사고유형         법규위반   도로형태 당사자종별_1당 당사자종별_2당\n",
       "count   4065         4065   4065     4065     4065\n",
       "unique    17           16     12       12       14\n",
       "top      횡단중  안전운전 의무 불이행  기타단일로      승용차      보행자\n",
       "freq     966         2824   2470     1977     1601"
      ]
     },
     "execution_count": 151,
     "metadata": {},
     "output_type": "execute_result"
    }
   ],
   "source": [
    "a.describe(include='O')"
   ]
  },
  {
   "cell_type": "code",
   "execution_count": 153,
   "metadata": {},
   "outputs": [
    {
     "data": {
      "text/plain": [
       "[('기타단일로', 2470),\n",
       " ('교차로내', 759),\n",
       " ('교차로부근', 417),\n",
       " ('교차로횡단보도내', 183),\n",
       " ('기타', 104),\n",
       " ('교량위', 61),\n",
       " ('터널안', 27),\n",
       " ('고가도로위', 18),\n",
       " ('지하차도(도로)내', 11),\n",
       " ('주차장', 8),\n",
       " ('불명', 6),\n",
       " ('철길건널목', 1)]"
      ]
     },
     "execution_count": 153,
     "metadata": {},
     "output_type": "execute_result"
    }
   ],
   "source": [
    "counter = Counter(a['도로형태'])\n",
    "counter.most_common()"
   ]
  },
  {
   "cell_type": "code",
   "execution_count": 154,
   "metadata": {},
   "outputs": [
    {
     "data": {
      "text/plain": [
       "{'고가도로위',\n",
       " '교량위',\n",
       " '교차로내',\n",
       " '교차로부근',\n",
       " '교차로횡단보도내',\n",
       " '기타',\n",
       " '기타단일로',\n",
       " '불명',\n",
       " '주차장',\n",
       " '지하차도(도로)내',\n",
       " '철길건널목',\n",
       " '터널안'}"
      ]
     },
     "execution_count": 154,
     "metadata": {},
     "output_type": "execute_result"
    }
   ],
   "source": [
    "set(a['도로형태'])"
   ]
  },
  {
   "cell_type": "code",
   "execution_count": 155,
   "metadata": {},
   "outputs": [],
   "source": [
    "mapping={'고가도로위':5,\n",
    " '교량위':11,\n",
    " '교차로내':10,\n",
    " '교차로부근':9,\n",
    " '교차로횡단보도내':8,\n",
    " '기타':7,\n",
    " '기타단일로':12,\n",
    " '불명':2,\n",
    " '주차장':3,\n",
    " '지하차도(도로)내':4,\n",
    " '철길건널목':1,\n",
    " '터널안':6}\n",
    "a['도로형태']=a['도로형태'].map(mapping)"
   ]
  },
  {
   "cell_type": "code",
   "execution_count": 156,
   "metadata": {},
   "outputs": [
    {
     "data": {
      "text/plain": [
       "[('횡단중', 966),\n",
       " ('기타', 717),\n",
       " ('측면충돌', 664),\n",
       " ('추돌', 416),\n",
       " ('정면충돌', 284),\n",
       " ('공작물충돌', 260),\n",
       " ('전도전복', 216),\n",
       " ('차도통행중', 191),\n",
       " ('전도', 152),\n",
       " ('길가장자리구역통행중', 65),\n",
       " ('도로이탈 추락', 50),\n",
       " ('보도통행중', 36),\n",
       " ('도로이탈 기타', 21),\n",
       " ('전복', 17),\n",
       " ('후진중충돌', 7),\n",
       " ('주/정차차량 충돌', 2),\n",
       " ('철길건널목', 1)]"
      ]
     },
     "execution_count": 156,
     "metadata": {},
     "output_type": "execute_result"
    }
   ],
   "source": [
    "counter = Counter(a['사고유형'])\n",
    "counter.most_common()"
   ]
  },
  {
   "cell_type": "code",
   "execution_count": 158,
   "metadata": {},
   "outputs": [],
   "source": [
    "mapping={'공작물충돌':12,\n",
    " '기타':16,\n",
    " '길가장자리구역통행중':8,\n",
    " '도로이탈 기타':5,\n",
    " '도로이탈 추락':7,\n",
    " '보도통행중':6,\n",
    " '전도':9,\n",
    " '전도전복':11,\n",
    " '전복':4,\n",
    " '정면충돌':13,\n",
    " '주/정차차량 충돌':2,\n",
    " '차도통행중':10,\n",
    " '철길건널목':1,\n",
    " '추돌':14,\n",
    " '측면충돌':15,\n",
    " '횡단중':17,\n",
    " '후진중충돌':3}\n",
    "a['사고유형']=a['사고유형'].map(mapping)"
   ]
  },
  {
   "cell_type": "code",
   "execution_count": 160,
   "metadata": {},
   "outputs": [
    {
     "data": {
      "text/plain": [
       "[('안전운전 의무 불이행', 2824),\n",
       " ('중앙선 침범', 310),\n",
       " ('신호위반', 307),\n",
       " ('과속', 200),\n",
       " ('보행자 보호의무 위반', 157),\n",
       " ('안전거리 미확보', 74),\n",
       " ('교차로 통행방법 위반', 64),\n",
       " ('기타(운전자법규위반)', 41),\n",
       " ('직진 및 우회전차의 통행방해', 40),\n",
       " ('부당한 회전', 21),\n",
       " ('앞지르기 금지위반', 10),\n",
       " ('차로위반(진로변경 위반)', 10),\n",
       " ('앞지르기 방법위반', 3),\n",
       " ('서행 및 일시정지위반', 2),\n",
       " ('정비불량 제차의 운전금지위반', 1),\n",
       " ('철길건널목 통과방법위반', 1)]"
      ]
     },
     "execution_count": 160,
     "metadata": {},
     "output_type": "execute_result"
    }
   ],
   "source": [
    "counter = Counter(a['법규위반'])\n",
    "counter.most_common()"
   ]
  },
  {
   "cell_type": "code",
   "execution_count": 162,
   "metadata": {},
   "outputs": [],
   "source": [
    "mapping={'과속':13,\n",
    " '교차로 통행방법 위반':10,\n",
    " '기타(운전자법규위반)':9,\n",
    " '보행자 보호의무 위반':12,\n",
    " '부당한 회전':7,\n",
    " '서행 및 일시정지위반':3,\n",
    " '신호위반':14,\n",
    " '안전거리 미확보':11,\n",
    " '안전운전 의무 불이행':16,\n",
    " '앞지르기 금지위반':6,\n",
    " '앞지르기 방법위반':4,\n",
    " '정비불량 제차의 운전금지위반':2,\n",
    " '중앙선 침범':15,\n",
    " '직진 및 우회전차의 통행방해':8,\n",
    " '차로위반(진로변경 위반)':5,\n",
    " '철길건널목 통과방법위반':1}\n",
    "a['법규위반']=a['법규위반'].map(mapping)"
   ]
  },
  {
   "cell_type": "code",
   "execution_count": 172,
   "metadata": {},
   "outputs": [
    {
     "data": {
      "text/plain": [
       "[('승용차', 1977),\n",
       " ('화물차', 931),\n",
       " ('이륜차', 404),\n",
       " ('승합차', 273),\n",
       " ('자전거', 126),\n",
       " ('원동기장치자전거', 117),\n",
       " ('건설기계', 96),\n",
       " ('농기계', 65),\n",
       " ('사륜오토바이(ATV)', 37),\n",
       " ('특수차', 29),\n",
       " ('기타', 6),\n",
       " ('개인형이동수단(PM)', 4)]"
      ]
     },
     "execution_count": 172,
     "metadata": {},
     "output_type": "execute_result"
    }
   ],
   "source": [
    "counter = Counter(a['당사자종별_1당'])\n",
    "counter.most_common()"
   ]
  },
  {
   "cell_type": "code",
   "execution_count": 173,
   "metadata": {},
   "outputs": [],
   "source": [
    "mapping={'개인형이동수단(PM)':1,\n",
    " '건설기계':6,\n",
    " '기타':2,\n",
    " '농기계':5,\n",
    " '사륜오토바이(ATV)':4,\n",
    " '승용차':12,\n",
    " '승합차':9,\n",
    " '원동기장치자전거':7,\n",
    " '이륜차':10,\n",
    " '자전거':8,\n",
    " '특수차':3,\n",
    " '화물차':11}\n",
    "a['당사자종별_1당']=a['당사자종별_1당'].map(mapping)"
   ]
  },
  {
   "cell_type": "code",
   "execution_count": 174,
   "metadata": {},
   "outputs": [
    {
     "data": {
      "text/plain": [
       "[('보행자', 1601),\n",
       " ('없음', 819),\n",
       " ('승용차', 538),\n",
       " ('화물차', 406),\n",
       " ('이륜차', 223),\n",
       " ('자전거', 140),\n",
       " ('승합차', 119),\n",
       " ('건설기계', 66),\n",
       " ('농기계', 59),\n",
       " ('원동기장치자전거', 57),\n",
       " ('특수차', 25),\n",
       " ('사륜오토바이(ATV)', 7),\n",
       " ('기타', 4),\n",
       " ('불명', 1)]"
      ]
     },
     "execution_count": 174,
     "metadata": {},
     "output_type": "execute_result"
    }
   ],
   "source": [
    "counter = Counter(a['당사자종별_2당'])\n",
    "counter.most_common()"
   ]
  },
  {
   "cell_type": "code",
   "execution_count": 176,
   "metadata": {},
   "outputs": [],
   "source": [
    "mapping={'건설기계':7,\n",
    " '기타':2,\n",
    " '농기계':6,\n",
    " '보행자':15,\n",
    " '불명':1,\n",
    " '사륜오토바이(ATV)':3,\n",
    " '승용차':12,\n",
    " '승합차':8,\n",
    " '없음':13,\n",
    " '원동기장치자전거':5,\n",
    " '이륜차':10,\n",
    " '자전거':9,\n",
    " '특수차':4,\n",
    " '화물차':11}\n",
    "a['당사자종별_2당']=a['당사자종별_2당'].map(mapping)"
   ]
  },
  {
   "cell_type": "code",
   "execution_count": 184,
   "metadata": {
    "scrolled": true
   },
   "outputs": [
    {
     "data": {
      "text/html": [
       "<div>\n",
       "<style scoped>\n",
       "    .dataframe tbody tr th:only-of-type {\n",
       "        vertical-align: middle;\n",
       "    }\n",
       "\n",
       "    .dataframe tbody tr th {\n",
       "        vertical-align: top;\n",
       "    }\n",
       "\n",
       "    .dataframe thead th {\n",
       "        text-align: right;\n",
       "    }\n",
       "</style>\n",
       "<table border=\"1\" class=\"dataframe\">\n",
       "  <thead>\n",
       "    <tr style=\"text-align: right;\">\n",
       "      <th></th>\n",
       "      <th>주야</th>\n",
       "      <th>요일</th>\n",
       "      <th>사망자수</th>\n",
       "      <th>사상자수</th>\n",
       "      <th>중상자수</th>\n",
       "      <th>경상자수</th>\n",
       "      <th>부상신고자수</th>\n",
       "      <th>사고유형</th>\n",
       "      <th>법규위반</th>\n",
       "      <th>도로형태</th>\n",
       "      <th>당사자종별_1당</th>\n",
       "      <th>당사자종별_2당</th>\n",
       "      <th>경도</th>\n",
       "      <th>위도</th>\n",
       "      <th>total</th>\n",
       "    </tr>\n",
       "  </thead>\n",
       "  <tbody>\n",
       "    <tr>\n",
       "      <th>주야</th>\n",
       "      <td>1.0</td>\n",
       "      <td>NaN</td>\n",
       "      <td>NaN</td>\n",
       "      <td>NaN</td>\n",
       "      <td>NaN</td>\n",
       "      <td>NaN</td>\n",
       "      <td>NaN</td>\n",
       "      <td>NaN</td>\n",
       "      <td>NaN</td>\n",
       "      <td>NaN</td>\n",
       "      <td>NaN</td>\n",
       "      <td>NaN</td>\n",
       "      <td>NaN</td>\n",
       "      <td>NaN</td>\n",
       "      <td>NaN</td>\n",
       "    </tr>\n",
       "    <tr>\n",
       "      <th>요일</th>\n",
       "      <td>NaN</td>\n",
       "      <td>1.0</td>\n",
       "      <td>NaN</td>\n",
       "      <td>NaN</td>\n",
       "      <td>NaN</td>\n",
       "      <td>NaN</td>\n",
       "      <td>NaN</td>\n",
       "      <td>NaN</td>\n",
       "      <td>NaN</td>\n",
       "      <td>NaN</td>\n",
       "      <td>NaN</td>\n",
       "      <td>NaN</td>\n",
       "      <td>NaN</td>\n",
       "      <td>NaN</td>\n",
       "      <td>NaN</td>\n",
       "    </tr>\n",
       "    <tr>\n",
       "      <th>사망자수</th>\n",
       "      <td>NaN</td>\n",
       "      <td>NaN</td>\n",
       "      <td>1.0</td>\n",
       "      <td>NaN</td>\n",
       "      <td>NaN</td>\n",
       "      <td>NaN</td>\n",
       "      <td>NaN</td>\n",
       "      <td>NaN</td>\n",
       "      <td>NaN</td>\n",
       "      <td>NaN</td>\n",
       "      <td>NaN</td>\n",
       "      <td>NaN</td>\n",
       "      <td>NaN</td>\n",
       "      <td>NaN</td>\n",
       "      <td>NaN</td>\n",
       "    </tr>\n",
       "    <tr>\n",
       "      <th>사상자수</th>\n",
       "      <td>NaN</td>\n",
       "      <td>NaN</td>\n",
       "      <td>NaN</td>\n",
       "      <td>1.000000</td>\n",
       "      <td>NaN</td>\n",
       "      <td>0.938183</td>\n",
       "      <td>NaN</td>\n",
       "      <td>NaN</td>\n",
       "      <td>NaN</td>\n",
       "      <td>NaN</td>\n",
       "      <td>NaN</td>\n",
       "      <td>NaN</td>\n",
       "      <td>NaN</td>\n",
       "      <td>NaN</td>\n",
       "      <td>0.996574</td>\n",
       "    </tr>\n",
       "    <tr>\n",
       "      <th>중상자수</th>\n",
       "      <td>NaN</td>\n",
       "      <td>NaN</td>\n",
       "      <td>NaN</td>\n",
       "      <td>NaN</td>\n",
       "      <td>1.0</td>\n",
       "      <td>NaN</td>\n",
       "      <td>NaN</td>\n",
       "      <td>NaN</td>\n",
       "      <td>NaN</td>\n",
       "      <td>NaN</td>\n",
       "      <td>NaN</td>\n",
       "      <td>NaN</td>\n",
       "      <td>NaN</td>\n",
       "      <td>NaN</td>\n",
       "      <td>NaN</td>\n",
       "    </tr>\n",
       "    <tr>\n",
       "      <th>경상자수</th>\n",
       "      <td>NaN</td>\n",
       "      <td>NaN</td>\n",
       "      <td>NaN</td>\n",
       "      <td>0.938183</td>\n",
       "      <td>NaN</td>\n",
       "      <td>1.000000</td>\n",
       "      <td>NaN</td>\n",
       "      <td>NaN</td>\n",
       "      <td>NaN</td>\n",
       "      <td>NaN</td>\n",
       "      <td>NaN</td>\n",
       "      <td>NaN</td>\n",
       "      <td>NaN</td>\n",
       "      <td>NaN</td>\n",
       "      <td>0.938732</td>\n",
       "    </tr>\n",
       "    <tr>\n",
       "      <th>부상신고자수</th>\n",
       "      <td>NaN</td>\n",
       "      <td>NaN</td>\n",
       "      <td>NaN</td>\n",
       "      <td>NaN</td>\n",
       "      <td>NaN</td>\n",
       "      <td>NaN</td>\n",
       "      <td>1.0</td>\n",
       "      <td>NaN</td>\n",
       "      <td>NaN</td>\n",
       "      <td>NaN</td>\n",
       "      <td>NaN</td>\n",
       "      <td>NaN</td>\n",
       "      <td>NaN</td>\n",
       "      <td>NaN</td>\n",
       "      <td>NaN</td>\n",
       "    </tr>\n",
       "    <tr>\n",
       "      <th>사고유형</th>\n",
       "      <td>NaN</td>\n",
       "      <td>NaN</td>\n",
       "      <td>NaN</td>\n",
       "      <td>NaN</td>\n",
       "      <td>NaN</td>\n",
       "      <td>NaN</td>\n",
       "      <td>NaN</td>\n",
       "      <td>1.0</td>\n",
       "      <td>NaN</td>\n",
       "      <td>NaN</td>\n",
       "      <td>NaN</td>\n",
       "      <td>NaN</td>\n",
       "      <td>NaN</td>\n",
       "      <td>NaN</td>\n",
       "      <td>NaN</td>\n",
       "    </tr>\n",
       "    <tr>\n",
       "      <th>법규위반</th>\n",
       "      <td>NaN</td>\n",
       "      <td>NaN</td>\n",
       "      <td>NaN</td>\n",
       "      <td>NaN</td>\n",
       "      <td>NaN</td>\n",
       "      <td>NaN</td>\n",
       "      <td>NaN</td>\n",
       "      <td>NaN</td>\n",
       "      <td>1.0</td>\n",
       "      <td>NaN</td>\n",
       "      <td>NaN</td>\n",
       "      <td>NaN</td>\n",
       "      <td>NaN</td>\n",
       "      <td>NaN</td>\n",
       "      <td>NaN</td>\n",
       "    </tr>\n",
       "    <tr>\n",
       "      <th>도로형태</th>\n",
       "      <td>NaN</td>\n",
       "      <td>NaN</td>\n",
       "      <td>NaN</td>\n",
       "      <td>NaN</td>\n",
       "      <td>NaN</td>\n",
       "      <td>NaN</td>\n",
       "      <td>NaN</td>\n",
       "      <td>NaN</td>\n",
       "      <td>NaN</td>\n",
       "      <td>1.0</td>\n",
       "      <td>NaN</td>\n",
       "      <td>NaN</td>\n",
       "      <td>NaN</td>\n",
       "      <td>NaN</td>\n",
       "      <td>NaN</td>\n",
       "    </tr>\n",
       "    <tr>\n",
       "      <th>당사자종별_1당</th>\n",
       "      <td>NaN</td>\n",
       "      <td>NaN</td>\n",
       "      <td>NaN</td>\n",
       "      <td>NaN</td>\n",
       "      <td>NaN</td>\n",
       "      <td>NaN</td>\n",
       "      <td>NaN</td>\n",
       "      <td>NaN</td>\n",
       "      <td>NaN</td>\n",
       "      <td>NaN</td>\n",
       "      <td>1.0</td>\n",
       "      <td>NaN</td>\n",
       "      <td>NaN</td>\n",
       "      <td>NaN</td>\n",
       "      <td>NaN</td>\n",
       "    </tr>\n",
       "    <tr>\n",
       "      <th>당사자종별_2당</th>\n",
       "      <td>NaN</td>\n",
       "      <td>NaN</td>\n",
       "      <td>NaN</td>\n",
       "      <td>NaN</td>\n",
       "      <td>NaN</td>\n",
       "      <td>NaN</td>\n",
       "      <td>NaN</td>\n",
       "      <td>NaN</td>\n",
       "      <td>NaN</td>\n",
       "      <td>NaN</td>\n",
       "      <td>NaN</td>\n",
       "      <td>1.0</td>\n",
       "      <td>NaN</td>\n",
       "      <td>NaN</td>\n",
       "      <td>NaN</td>\n",
       "    </tr>\n",
       "    <tr>\n",
       "      <th>경도</th>\n",
       "      <td>NaN</td>\n",
       "      <td>NaN</td>\n",
       "      <td>NaN</td>\n",
       "      <td>NaN</td>\n",
       "      <td>NaN</td>\n",
       "      <td>NaN</td>\n",
       "      <td>NaN</td>\n",
       "      <td>NaN</td>\n",
       "      <td>NaN</td>\n",
       "      <td>NaN</td>\n",
       "      <td>NaN</td>\n",
       "      <td>NaN</td>\n",
       "      <td>1.0</td>\n",
       "      <td>NaN</td>\n",
       "      <td>NaN</td>\n",
       "    </tr>\n",
       "    <tr>\n",
       "      <th>위도</th>\n",
       "      <td>NaN</td>\n",
       "      <td>NaN</td>\n",
       "      <td>NaN</td>\n",
       "      <td>NaN</td>\n",
       "      <td>NaN</td>\n",
       "      <td>NaN</td>\n",
       "      <td>NaN</td>\n",
       "      <td>NaN</td>\n",
       "      <td>NaN</td>\n",
       "      <td>NaN</td>\n",
       "      <td>NaN</td>\n",
       "      <td>NaN</td>\n",
       "      <td>NaN</td>\n",
       "      <td>1.0</td>\n",
       "      <td>NaN</td>\n",
       "    </tr>\n",
       "    <tr>\n",
       "      <th>total</th>\n",
       "      <td>NaN</td>\n",
       "      <td>NaN</td>\n",
       "      <td>NaN</td>\n",
       "      <td>0.996574</td>\n",
       "      <td>NaN</td>\n",
       "      <td>0.938732</td>\n",
       "      <td>NaN</td>\n",
       "      <td>NaN</td>\n",
       "      <td>NaN</td>\n",
       "      <td>NaN</td>\n",
       "      <td>NaN</td>\n",
       "      <td>NaN</td>\n",
       "      <td>NaN</td>\n",
       "      <td>NaN</td>\n",
       "      <td>1.000000</td>\n",
       "    </tr>\n",
       "  </tbody>\n",
       "</table>\n",
       "</div>"
      ],
      "text/plain": [
       "           주야   요일  사망자수      사상자수  중상자수      경상자수  부상신고자수  사고유형  법규위반  도로형태  \\\n",
       "주야        1.0  NaN   NaN       NaN   NaN       NaN     NaN   NaN   NaN   NaN   \n",
       "요일        NaN  1.0   NaN       NaN   NaN       NaN     NaN   NaN   NaN   NaN   \n",
       "사망자수      NaN  NaN   1.0       NaN   NaN       NaN     NaN   NaN   NaN   NaN   \n",
       "사상자수      NaN  NaN   NaN  1.000000   NaN  0.938183     NaN   NaN   NaN   NaN   \n",
       "중상자수      NaN  NaN   NaN       NaN   1.0       NaN     NaN   NaN   NaN   NaN   \n",
       "경상자수      NaN  NaN   NaN  0.938183   NaN  1.000000     NaN   NaN   NaN   NaN   \n",
       "부상신고자수    NaN  NaN   NaN       NaN   NaN       NaN     1.0   NaN   NaN   NaN   \n",
       "사고유형      NaN  NaN   NaN       NaN   NaN       NaN     NaN   1.0   NaN   NaN   \n",
       "법규위반      NaN  NaN   NaN       NaN   NaN       NaN     NaN   NaN   1.0   NaN   \n",
       "도로형태      NaN  NaN   NaN       NaN   NaN       NaN     NaN   NaN   NaN   1.0   \n",
       "당사자종별_1당  NaN  NaN   NaN       NaN   NaN       NaN     NaN   NaN   NaN   NaN   \n",
       "당사자종별_2당  NaN  NaN   NaN       NaN   NaN       NaN     NaN   NaN   NaN   NaN   \n",
       "경도        NaN  NaN   NaN       NaN   NaN       NaN     NaN   NaN   NaN   NaN   \n",
       "위도        NaN  NaN   NaN       NaN   NaN       NaN     NaN   NaN   NaN   NaN   \n",
       "total     NaN  NaN   NaN  0.996574   NaN  0.938732     NaN   NaN   NaN   NaN   \n",
       "\n",
       "          당사자종별_1당  당사자종별_2당   경도   위도     total  \n",
       "주야             NaN       NaN  NaN  NaN       NaN  \n",
       "요일             NaN       NaN  NaN  NaN       NaN  \n",
       "사망자수           NaN       NaN  NaN  NaN       NaN  \n",
       "사상자수           NaN       NaN  NaN  NaN  0.996574  \n",
       "중상자수           NaN       NaN  NaN  NaN       NaN  \n",
       "경상자수           NaN       NaN  NaN  NaN  0.938732  \n",
       "부상신고자수         NaN       NaN  NaN  NaN       NaN  \n",
       "사고유형           NaN       NaN  NaN  NaN       NaN  \n",
       "법규위반           NaN       NaN  NaN  NaN       NaN  \n",
       "도로형태           NaN       NaN  NaN  NaN       NaN  \n",
       "당사자종별_1당       1.0       NaN  NaN  NaN       NaN  \n",
       "당사자종별_2당       NaN       1.0  NaN  NaN       NaN  \n",
       "경도             NaN       NaN  1.0  NaN       NaN  \n",
       "위도             NaN       NaN  NaN  1.0       NaN  \n",
       "total          NaN       NaN  NaN  NaN  1.000000  "
      ]
     },
     "execution_count": 184,
     "metadata": {},
     "output_type": "execute_result"
    }
   ],
   "source": [
    "a.corr()[a.corr()>0.8]"
   ]
  },
  {
   "cell_type": "code",
   "execution_count": 187,
   "metadata": {},
   "outputs": [],
   "source": [
    "\n",
    "pca= PCA(n_components=1)\n",
    "v1 = pca.fit_transform(a[['경상자수','사상자수','total']])"
   ]
  },
  {
   "cell_type": "code",
   "execution_count": 188,
   "metadata": {},
   "outputs": [],
   "source": [
    "a['total']=v1"
   ]
  },
  {
   "cell_type": "code",
   "execution_count": 189,
   "metadata": {},
   "outputs": [],
   "source": [
    "a=a.drop(['경상자수','사상자수'],axis=1)"
   ]
  },
  {
   "cell_type": "code",
   "execution_count": 304,
   "metadata": {
    "scrolled": true
   },
   "outputs": [
    {
     "data": {
      "text/html": [
       "<div>\n",
       "<style scoped>\n",
       "    .dataframe tbody tr th:only-of-type {\n",
       "        vertical-align: middle;\n",
       "    }\n",
       "\n",
       "    .dataframe tbody tr th {\n",
       "        vertical-align: top;\n",
       "    }\n",
       "\n",
       "    .dataframe thead th {\n",
       "        text-align: right;\n",
       "    }\n",
       "</style>\n",
       "<table border=\"1\" class=\"dataframe\">\n",
       "  <thead>\n",
       "    <tr style=\"text-align: right;\">\n",
       "      <th></th>\n",
       "      <th>주야</th>\n",
       "      <th>요일</th>\n",
       "      <th>사망자수</th>\n",
       "      <th>중상자수</th>\n",
       "      <th>부상신고자수</th>\n",
       "      <th>사고유형</th>\n",
       "      <th>법규위반</th>\n",
       "      <th>도로형태</th>\n",
       "      <th>당사자종별_1당</th>\n",
       "      <th>당사자종별_2당</th>\n",
       "      <th>경도</th>\n",
       "      <th>위도</th>\n",
       "      <th>total</th>\n",
       "    </tr>\n",
       "  </thead>\n",
       "  <tbody>\n",
       "    <tr>\n",
       "      <th>주야</th>\n",
       "      <td>1.0</td>\n",
       "      <td>NaN</td>\n",
       "      <td>NaN</td>\n",
       "      <td>NaN</td>\n",
       "      <td>NaN</td>\n",
       "      <td>NaN</td>\n",
       "      <td>NaN</td>\n",
       "      <td>NaN</td>\n",
       "      <td>NaN</td>\n",
       "      <td>NaN</td>\n",
       "      <td>NaN</td>\n",
       "      <td>NaN</td>\n",
       "      <td>NaN</td>\n",
       "    </tr>\n",
       "    <tr>\n",
       "      <th>요일</th>\n",
       "      <td>NaN</td>\n",
       "      <td>1.0</td>\n",
       "      <td>NaN</td>\n",
       "      <td>NaN</td>\n",
       "      <td>NaN</td>\n",
       "      <td>NaN</td>\n",
       "      <td>NaN</td>\n",
       "      <td>NaN</td>\n",
       "      <td>NaN</td>\n",
       "      <td>NaN</td>\n",
       "      <td>NaN</td>\n",
       "      <td>NaN</td>\n",
       "      <td>NaN</td>\n",
       "    </tr>\n",
       "    <tr>\n",
       "      <th>사망자수</th>\n",
       "      <td>NaN</td>\n",
       "      <td>NaN</td>\n",
       "      <td>1.0</td>\n",
       "      <td>NaN</td>\n",
       "      <td>NaN</td>\n",
       "      <td>NaN</td>\n",
       "      <td>NaN</td>\n",
       "      <td>NaN</td>\n",
       "      <td>NaN</td>\n",
       "      <td>NaN</td>\n",
       "      <td>NaN</td>\n",
       "      <td>NaN</td>\n",
       "      <td>NaN</td>\n",
       "    </tr>\n",
       "    <tr>\n",
       "      <th>중상자수</th>\n",
       "      <td>NaN</td>\n",
       "      <td>NaN</td>\n",
       "      <td>NaN</td>\n",
       "      <td>1.0</td>\n",
       "      <td>NaN</td>\n",
       "      <td>NaN</td>\n",
       "      <td>NaN</td>\n",
       "      <td>NaN</td>\n",
       "      <td>NaN</td>\n",
       "      <td>NaN</td>\n",
       "      <td>NaN</td>\n",
       "      <td>NaN</td>\n",
       "      <td>NaN</td>\n",
       "    </tr>\n",
       "    <tr>\n",
       "      <th>부상신고자수</th>\n",
       "      <td>NaN</td>\n",
       "      <td>NaN</td>\n",
       "      <td>NaN</td>\n",
       "      <td>NaN</td>\n",
       "      <td>1.0</td>\n",
       "      <td>NaN</td>\n",
       "      <td>NaN</td>\n",
       "      <td>NaN</td>\n",
       "      <td>NaN</td>\n",
       "      <td>NaN</td>\n",
       "      <td>NaN</td>\n",
       "      <td>NaN</td>\n",
       "      <td>NaN</td>\n",
       "    </tr>\n",
       "    <tr>\n",
       "      <th>사고유형</th>\n",
       "      <td>NaN</td>\n",
       "      <td>NaN</td>\n",
       "      <td>NaN</td>\n",
       "      <td>NaN</td>\n",
       "      <td>NaN</td>\n",
       "      <td>1.0</td>\n",
       "      <td>NaN</td>\n",
       "      <td>NaN</td>\n",
       "      <td>NaN</td>\n",
       "      <td>NaN</td>\n",
       "      <td>NaN</td>\n",
       "      <td>NaN</td>\n",
       "      <td>NaN</td>\n",
       "    </tr>\n",
       "    <tr>\n",
       "      <th>법규위반</th>\n",
       "      <td>NaN</td>\n",
       "      <td>NaN</td>\n",
       "      <td>NaN</td>\n",
       "      <td>NaN</td>\n",
       "      <td>NaN</td>\n",
       "      <td>NaN</td>\n",
       "      <td>1.0</td>\n",
       "      <td>NaN</td>\n",
       "      <td>NaN</td>\n",
       "      <td>NaN</td>\n",
       "      <td>NaN</td>\n",
       "      <td>NaN</td>\n",
       "      <td>NaN</td>\n",
       "    </tr>\n",
       "    <tr>\n",
       "      <th>도로형태</th>\n",
       "      <td>NaN</td>\n",
       "      <td>NaN</td>\n",
       "      <td>NaN</td>\n",
       "      <td>NaN</td>\n",
       "      <td>NaN</td>\n",
       "      <td>NaN</td>\n",
       "      <td>NaN</td>\n",
       "      <td>1.0</td>\n",
       "      <td>NaN</td>\n",
       "      <td>NaN</td>\n",
       "      <td>NaN</td>\n",
       "      <td>NaN</td>\n",
       "      <td>NaN</td>\n",
       "    </tr>\n",
       "    <tr>\n",
       "      <th>당사자종별_1당</th>\n",
       "      <td>NaN</td>\n",
       "      <td>NaN</td>\n",
       "      <td>NaN</td>\n",
       "      <td>NaN</td>\n",
       "      <td>NaN</td>\n",
       "      <td>NaN</td>\n",
       "      <td>NaN</td>\n",
       "      <td>NaN</td>\n",
       "      <td>1.0</td>\n",
       "      <td>NaN</td>\n",
       "      <td>NaN</td>\n",
       "      <td>NaN</td>\n",
       "      <td>NaN</td>\n",
       "    </tr>\n",
       "    <tr>\n",
       "      <th>당사자종별_2당</th>\n",
       "      <td>NaN</td>\n",
       "      <td>NaN</td>\n",
       "      <td>NaN</td>\n",
       "      <td>NaN</td>\n",
       "      <td>NaN</td>\n",
       "      <td>NaN</td>\n",
       "      <td>NaN</td>\n",
       "      <td>NaN</td>\n",
       "      <td>NaN</td>\n",
       "      <td>1.0</td>\n",
       "      <td>NaN</td>\n",
       "      <td>NaN</td>\n",
       "      <td>NaN</td>\n",
       "    </tr>\n",
       "    <tr>\n",
       "      <th>경도</th>\n",
       "      <td>NaN</td>\n",
       "      <td>NaN</td>\n",
       "      <td>NaN</td>\n",
       "      <td>NaN</td>\n",
       "      <td>NaN</td>\n",
       "      <td>NaN</td>\n",
       "      <td>NaN</td>\n",
       "      <td>NaN</td>\n",
       "      <td>NaN</td>\n",
       "      <td>NaN</td>\n",
       "      <td>1.0</td>\n",
       "      <td>NaN</td>\n",
       "      <td>NaN</td>\n",
       "    </tr>\n",
       "    <tr>\n",
       "      <th>위도</th>\n",
       "      <td>NaN</td>\n",
       "      <td>NaN</td>\n",
       "      <td>NaN</td>\n",
       "      <td>NaN</td>\n",
       "      <td>NaN</td>\n",
       "      <td>NaN</td>\n",
       "      <td>NaN</td>\n",
       "      <td>NaN</td>\n",
       "      <td>NaN</td>\n",
       "      <td>NaN</td>\n",
       "      <td>NaN</td>\n",
       "      <td>1.0</td>\n",
       "      <td>NaN</td>\n",
       "    </tr>\n",
       "    <tr>\n",
       "      <th>total</th>\n",
       "      <td>NaN</td>\n",
       "      <td>NaN</td>\n",
       "      <td>NaN</td>\n",
       "      <td>NaN</td>\n",
       "      <td>NaN</td>\n",
       "      <td>NaN</td>\n",
       "      <td>NaN</td>\n",
       "      <td>NaN</td>\n",
       "      <td>NaN</td>\n",
       "      <td>NaN</td>\n",
       "      <td>NaN</td>\n",
       "      <td>NaN</td>\n",
       "      <td>1.0</td>\n",
       "    </tr>\n",
       "  </tbody>\n",
       "</table>\n",
       "</div>"
      ],
      "text/plain": [
       "           주야   요일  사망자수  중상자수  부상신고자수  사고유형  법규위반  도로형태  당사자종별_1당  당사자종별_2당  \\\n",
       "주야        1.0  NaN   NaN   NaN     NaN   NaN   NaN   NaN       NaN       NaN   \n",
       "요일        NaN  1.0   NaN   NaN     NaN   NaN   NaN   NaN       NaN       NaN   \n",
       "사망자수      NaN  NaN   1.0   NaN     NaN   NaN   NaN   NaN       NaN       NaN   \n",
       "중상자수      NaN  NaN   NaN   1.0     NaN   NaN   NaN   NaN       NaN       NaN   \n",
       "부상신고자수    NaN  NaN   NaN   NaN     1.0   NaN   NaN   NaN       NaN       NaN   \n",
       "사고유형      NaN  NaN   NaN   NaN     NaN   1.0   NaN   NaN       NaN       NaN   \n",
       "법규위반      NaN  NaN   NaN   NaN     NaN   NaN   1.0   NaN       NaN       NaN   \n",
       "도로형태      NaN  NaN   NaN   NaN     NaN   NaN   NaN   1.0       NaN       NaN   \n",
       "당사자종별_1당  NaN  NaN   NaN   NaN     NaN   NaN   NaN   NaN       1.0       NaN   \n",
       "당사자종별_2당  NaN  NaN   NaN   NaN     NaN   NaN   NaN   NaN       NaN       1.0   \n",
       "경도        NaN  NaN   NaN   NaN     NaN   NaN   NaN   NaN       NaN       NaN   \n",
       "위도        NaN  NaN   NaN   NaN     NaN   NaN   NaN   NaN       NaN       NaN   \n",
       "total     NaN  NaN   NaN   NaN     NaN   NaN   NaN   NaN       NaN       NaN   \n",
       "\n",
       "           경도   위도  total  \n",
       "주야        NaN  NaN    NaN  \n",
       "요일        NaN  NaN    NaN  \n",
       "사망자수      NaN  NaN    NaN  \n",
       "중상자수      NaN  NaN    NaN  \n",
       "부상신고자수    NaN  NaN    NaN  \n",
       "사고유형      NaN  NaN    NaN  \n",
       "법규위반      NaN  NaN    NaN  \n",
       "도로형태      NaN  NaN    NaN  \n",
       "당사자종별_1당  NaN  NaN    NaN  \n",
       "당사자종별_2당  NaN  NaN    NaN  \n",
       "경도        1.0  NaN    NaN  \n",
       "위도        NaN  1.0    NaN  \n",
       "total     NaN  NaN    1.0  "
      ]
     },
     "execution_count": 304,
     "metadata": {},
     "output_type": "execute_result"
    }
   ],
   "source": [
    "a.corr()[a.corr()>0.8]"
   ]
  },
  {
   "cell_type": "code",
   "execution_count": 310,
   "metadata": {},
   "outputs": [
    {
     "data": {
      "text/plain": [
       "<matplotlib.axes._subplots.AxesSubplot at 0x2fd49940>"
      ]
     },
     "execution_count": 310,
     "metadata": {},
     "output_type": "execute_result"
    },
    {
     "data": {
      "image/png": "[encoded data removed]",
      "text/plain": [
       "<matplotlib.figure.Figure at 0x19047cc0>"
      ]
     },
     "metadata": {},
     "output_type": "display_data"
    }
   ],
   "source": [
    "sns.heatmap(a.corr(), annot=True, fmt=\".1f\")"
   ]
  },
  {
   "cell_type": "code",
   "execution_count": 305,
   "metadata": {},
   "outputs": [],
   "source": [
    "a['isDanger']= a['사망자수'].map(lambda x: 1 if x>1 else 0)"
   ]
  },
  {
   "cell_type": "code",
   "execution_count": 298,
   "metadata": {},
   "outputs": [],
   "source": [
    "X_train,X_test, y_train,y_test = train_test_split(a[['주야','요일','사고유형','법규위반','도로형태','당사자종별_1당','당사자종별_2당','경도','위도','total']],a['isDanger'], stratify=a['isDanger'])"
   ]
  },
  {
   "cell_type": "code",
   "execution_count": 299,
   "metadata": {},
   "outputs": [
    {
     "data": {
      "text/plain": [
       "XGBClassifier(base_score=0.5, booster='gbtree', colsample_bylevel=1,\n",
       "       colsample_bytree=1, gamma=0, learning_rate=0.01, max_delta_step=0,\n",
       "       max_depth=7, min_child_weight=1, missing=None, n_estimator=10000,\n",
       "       n_estimators=100, n_jobs=1, nthread=None,\n",
       "       objective='binary:logistic', random_state=0, reg_alpha=0,\n",
       "       reg_lambda=1, scale_pos_weight=1, seed=None, silent=True,\n",
       "       subsample=1)"
      ]
     },
     "execution_count": 299,
     "metadata": {},
     "output_type": "execute_result"
    }
   ],
   "source": [
    "xgr = xgb.XGBClassifier(n_estimator=10000, learning_rate=0.01, max_depth=7)\n",
    "xgr.fit(X_train,y_train)"
   ]
  },
  {
   "cell_type": "code",
   "execution_count": 300,
   "metadata": {},
   "outputs": [
    {
     "data": {
      "text/plain": [
       "0.9353535353535353"
      ]
     },
     "execution_count": 300,
     "metadata": {},
     "output_type": "execute_result"
    }
   ],
   "source": [
    "pred=xgr.predict_proba(X_test)[:,1]\n",
    "score = roc_auc_score(y_test,pred)\n",
    "score"
   ]
  },
  {
   "cell_type": "code",
   "execution_count": 244,
   "metadata": {},
   "outputs": [
    {
     "data": {
      "text/plain": [
       "array([0.05738332, 0.07612853, 0.04284621, 0.02371844, 0.05202754,\n",
       "       0.03787299, 0.11055853, 0.16526397, 0.19395563, 0.24024484],\n",
       "      dtype=float32)"
      ]
     },
     "execution_count": 244,
     "metadata": {},
     "output_type": "execute_result"
    }
   ],
   "source": [
    "xgr.feature_importances_"
   ]
  },
  {
   "cell_type": "code",
   "execution_count": 294,
   "metadata": {},
   "outputs": [
    {
     "data": {
      "text/plain": [
       "<matplotlib.axes._subplots.AxesSubplot at 0x17de5710>"
      ]
     },
     "execution_count": 294,
     "metadata": {},
     "output_type": "execute_result"
    },
    {
     "data": {
      "image/png": "[encoded data removed]",
      "text/plain": [
       "<matplotlib.figure.Figure at 0x17dc2f98>"
      ]
     },
     "metadata": {},
     "output_type": "display_data"
    }
   ],
   "source": [
    "xgb.plot_importance(xgr)"
   ]
  },
  {
   "cell_type": "code",
   "execution_count": null,
   "metadata": {},
   "outputs": [],
   "source": []
  }
 ],
 "metadata": {
  "kernelspec": {
   "display_name": "Python 3",
   "language": "python",
   "name": "python3"
  },
  "language_info": {
   "codemirror_mode": {
    "name": "ipython",
    "version": 3
   },
   "file_extension": ".py",
   "mimetype": "text/x-python",
   "name": "python",
   "nbconvert_exporter": "python",
   "pygments_lexer": "ipython3",
   "version": "3.6.4"
  }
 },
 "nbformat": 4,
 "nbformat_minor": 2
}
